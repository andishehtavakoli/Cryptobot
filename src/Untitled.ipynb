{
 "cells": [
  {
   "cell_type": "code",
   "execution_count": 26,
   "id": "bdf9ab14",
   "metadata": {},
   "outputs": [],
   "source": [
    "import telebot\n",
    "import os"
   ]
  },
  {
   "cell_type": "code",
   "execution_count": 19,
   "id": "34543e3a",
   "metadata": {},
   "outputs": [],
   "source": [
    "bot = telebot.TeleBot('5060023180:AAG6-Pd1CzUrCCdNc90-hFwdwsp7udyFLs8', parse_mode=None)"
   ]
  },
  {
   "cell_type": "code",
   "execution_count": 20,
   "id": "36ccfc2b",
   "metadata": {},
   "outputs": [],
   "source": [
    "@bot.message_handler(commands=['start','help'])\n",
    "def send_welcome(message):\n",
    "    bot.reply_to(message,\"Howdy, how are you doing?\")"
   ]
  },
  {
   "cell_type": "code",
   "execution_count": 21,
   "id": "0c41d3ca",
   "metadata": {},
   "outputs": [],
   "source": [
    "@bot.message_handler(func=lambda message:True)\n",
    "def echo_all(message):\n",
    "    bot.reply_to(message, message.text)"
   ]
  },
  {
   "cell_type": "code",
   "execution_count": 22,
   "id": "50ba4e78",
   "metadata": {},
   "outputs": [
    {
     "name": "stderr",
     "output_type": "stream",
     "text": [
      "2022-01-19 13:03:32,553 (__init__.py:627 MainThread) ERROR - TeleBot: \"Infinity polling: polling exited\"\n",
      "2022-01-19 13:03:32,567 (__init__.py:629 MainThread) ERROR - TeleBot: \"Break infinity polling\"\n"
     ]
    }
   ],
   "source": [
    "bot.infinity_polling()"
   ]
  },
  {
   "cell_type": "code",
   "execution_count": null,
   "id": "acdf9f34",
   "metadata": {},
   "outputs": [],
   "source": []
  },
  {
   "cell_type": "code",
   "execution_count": null,
   "id": "b165d6ab",
   "metadata": {},
   "outputs": [],
   "source": []
  },
  {
   "cell_type": "code",
   "execution_count": null,
   "id": "ba34a7fb",
   "metadata": {},
   "outputs": [],
   "source": []
  },
  {
   "cell_type": "code",
   "execution_count": null,
   "id": "b0006a2b",
   "metadata": {},
   "outputs": [],
   "source": []
  },
  {
   "cell_type": "code",
   "execution_count": null,
   "id": "599f8f38",
   "metadata": {},
   "outputs": [],
   "source": []
  }
 ],
 "metadata": {
  "kernelspec": {
   "display_name": "Python 3 (ipykernel)",
   "language": "python",
   "name": "python3"
  },
  "language_info": {
   "codemirror_mode": {
    "name": "ipython",
    "version": 3
   },
   "file_extension": ".py",
   "mimetype": "text/x-python",
   "name": "python",
   "nbconvert_exporter": "python",
   "pygments_lexer": "ipython3",
   "version": "3.8.12"
  }
 },
 "nbformat": 4,
 "nbformat_minor": 5
}
